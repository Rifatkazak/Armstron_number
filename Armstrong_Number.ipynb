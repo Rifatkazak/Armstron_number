{
 "cells": [
  {
   "cell_type": "code",
   "execution_count": 22,
   "metadata": {},
   "outputs": [
    {
     "name": "stdout",
     "output_type": "stream",
     "text": [
      "Please Enter Check You Armstrong Number: 121\n",
      "121\n",
      "121 is not an Armstrong number\n"
     ]
    }
   ],
   "source": [
    "#Armstrong Number\n",
    "number =input(\"Please Enter Check You Armstrong Number: \")\n",
    "number_int =int(number)\n",
    "number_list = list(str(number_int))\n",
    "powder = len(number_list)\n",
    "total = 0\n",
    "if not number.isdigit() and number_int<0 :\n",
    "    print(\"It is an invalid entry. Don't use non-numeric, float, or negative values!\")\n",
    "else :\n",
    "    for i in range(powder) :\n",
    "        total += int(number_list[i])**powder\n",
    "    if total ==int(number) :\n",
    "        print(f\"{int(number)} is an Armstrong number\")\n",
    "    else:\n",
    "        print(f\"{int(number)} is not an Armstrong number\")\n"
   ]
  }
 ],
 "metadata": {
  "kernelspec": {
   "display_name": "Python 3",
   "language": "python",
   "name": "python3"
  },
  "language_info": {
   "codemirror_mode": {
    "name": "ipython",
    "version": 3
   },
   "file_extension": ".py",
   "mimetype": "text/x-python",
   "name": "python",
   "nbconvert_exporter": "python",
   "pygments_lexer": "ipython3",
   "version": "3.8.5"
  }
 },
 "nbformat": 4,
 "nbformat_minor": 4
}
