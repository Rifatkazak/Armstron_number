{
  "cells": [
    {
      "cell_type": "markdown",
      "metadata": {
        "id": "view-in-github",
        "colab_type": "text"
      },
      "source": [
        "<a href=\"https://colab.research.google.com/github/Rifatkazak/Armstrong_number-Armstrong_Number.ipynb/blob/main/_downloads/070179efc13bd796c5dd4af7bf52d5b9/intro.ipynb\" target=\"_parent\"><img src=\"https://colab.research.google.com/assets/colab-badge.svg\" alt=\"Open In Colab\"/></a>"
      ]
    },
    {
      "cell_type": "code",
      "execution_count": 1,
      "metadata": {
        "id": "VsK70iAfTFV5"
      },
      "outputs": [],
      "source": [
        "# For tips on running notebooks in Google Colab, see\n",
        "# https://pytorch.org/tutorials/beginner/colab\n",
        "%matplotlib inline"
      ]
    },
    {
      "cell_type": "code",
      "source": [
        "import torch\n",
        "from torch import nn\n",
        "from torch.utils.data import DataLoader\n",
        "from torchvision import datasets\n",
        "from torchvision.transforms import ToTensor"
      ],
      "metadata": {
        "id": "4sZXCbh3TJB7"
      },
      "execution_count": 2,
      "outputs": []
    },
    {
      "cell_type": "code",
      "source": [
        "# Download training data from open datasets.\n",
        "training_data = datasets.FashionMNIST(\n",
        "    root=\"data\",\n",
        "    train=True,\n",
        "    download=True,\n",
        "    transform=ToTensor(),\n",
        ")\n",
        "\n",
        "# Download test data from open datasets.\n",
        "test_data = datasets.FashionMNIST(\n",
        "    root=\"data\",\n",
        "    train=False,\n",
        "    download=True,\n",
        "    transform=ToTensor(),\n",
        ")"
      ],
      "metadata": {
        "id": "NDkYWVCRTJ9a",
        "outputId": "ce8f8318-fb17-428d-cb1f-4a78513afd1b",
        "colab": {
          "base_uri": "https://localhost:8080/"
        }
      },
      "execution_count": 3,
      "outputs": [
        {
          "output_type": "stream",
          "name": "stdout",
          "text": [
            "Downloading http://fashion-mnist.s3-website.eu-central-1.amazonaws.com/train-images-idx3-ubyte.gz\n",
            "Downloading http://fashion-mnist.s3-website.eu-central-1.amazonaws.com/train-images-idx3-ubyte.gz to data/FashionMNIST/raw/train-images-idx3-ubyte.gz\n"
          ]
        },
        {
          "output_type": "stream",
          "name": "stderr",
          "text": [
            "100%|██████████| 26.4M/26.4M [00:01<00:00, 14.3MB/s]\n"
          ]
        },
        {
          "output_type": "stream",
          "name": "stdout",
          "text": [
            "Extracting data/FashionMNIST/raw/train-images-idx3-ubyte.gz to data/FashionMNIST/raw\n",
            "\n",
            "Downloading http://fashion-mnist.s3-website.eu-central-1.amazonaws.com/train-labels-idx1-ubyte.gz\n",
            "Downloading http://fashion-mnist.s3-website.eu-central-1.amazonaws.com/train-labels-idx1-ubyte.gz to data/FashionMNIST/raw/train-labels-idx1-ubyte.gz\n"
          ]
        },
        {
          "output_type": "stream",
          "name": "stderr",
          "text": [
            "100%|██████████| 29.5k/29.5k [00:00<00:00, 243kB/s]\n"
          ]
        },
        {
          "output_type": "stream",
          "name": "stdout",
          "text": [
            "Extracting data/FashionMNIST/raw/train-labels-idx1-ubyte.gz to data/FashionMNIST/raw\n",
            "\n",
            "Downloading http://fashion-mnist.s3-website.eu-central-1.amazonaws.com/t10k-images-idx3-ubyte.gz\n",
            "Downloading http://fashion-mnist.s3-website.eu-central-1.amazonaws.com/t10k-images-idx3-ubyte.gz to data/FashionMNIST/raw/t10k-images-idx3-ubyte.gz\n"
          ]
        },
        {
          "output_type": "stream",
          "name": "stderr",
          "text": [
            "100%|██████████| 4.42M/4.42M [00:01<00:00, 4.29MB/s]\n"
          ]
        },
        {
          "output_type": "stream",
          "name": "stdout",
          "text": [
            "Extracting data/FashionMNIST/raw/t10k-images-idx3-ubyte.gz to data/FashionMNIST/raw\n",
            "\n",
            "Downloading http://fashion-mnist.s3-website.eu-central-1.amazonaws.com/t10k-labels-idx1-ubyte.gz\n",
            "Downloading http://fashion-mnist.s3-website.eu-central-1.amazonaws.com/t10k-labels-idx1-ubyte.gz to data/FashionMNIST/raw/t10k-labels-idx1-ubyte.gz\n"
          ]
        },
        {
          "output_type": "stream",
          "name": "stderr",
          "text": [
            "100%|██████████| 5.15k/5.15k [00:00<00:00, 16.2MB/s]"
          ]
        },
        {
          "output_type": "stream",
          "name": "stdout",
          "text": [
            "Extracting data/FashionMNIST/raw/t10k-labels-idx1-ubyte.gz to data/FashionMNIST/raw\n",
            "\n"
          ]
        },
        {
          "output_type": "stream",
          "name": "stderr",
          "text": [
            "\n"
          ]
        }
      ]
    },
    {
      "cell_type": "code",
      "source": [
        "batch_size = 64\n",
        "\n",
        "# Create data loaders.\n",
        "train_dataloader = DataLoader(training_data, batch_size=batch_size)\n",
        "test_dataloader = DataLoader(test_data, batch_size=batch_size)\n",
        "\n",
        "for X, y in test_dataloader:\n",
        "    print(f\"Shape of X [N, C, H, W]: {X.shape}\")\n",
        "    print(f\"Shape of y: {y.shape} {y.dtype}\")\n",
        "    break"
      ],
      "metadata": {
        "id": "lE4qUx8GTqYT",
        "outputId": "63daa2d1-f8b1-437c-fa5a-4bd18c0537a6",
        "colab": {
          "base_uri": "https://localhost:8080/"
        }
      },
      "execution_count": 4,
      "outputs": [
        {
          "output_type": "stream",
          "name": "stdout",
          "text": [
            "Shape of X [N, C, H, W]: torch.Size([64, 1, 28, 28])\n",
            "Shape of y: torch.Size([64]) torch.int64\n"
          ]
        }
      ]
    },
    {
      "cell_type": "code",
      "source": [
        "device = \"cpu\"\n",
        "print(f\"Using {device} device\")"
      ],
      "metadata": {
        "id": "sy09WhF-URTy",
        "outputId": "24e4e733-c36c-4a02-dfeb-f731bd2f335a",
        "colab": {
          "base_uri": "https://localhost:8080/"
        }
      },
      "execution_count": 6,
      "outputs": [
        {
          "output_type": "stream",
          "name": "stdout",
          "text": [
            "Using cpu device\n"
          ]
        }
      ]
    },
    {
      "cell_type": "code",
      "source": [
        "# Define model\n",
        "class NeuralNetwork(nn.Module):\n",
        "    def __init__(self):\n",
        "        super().__init__()\n",
        "        self.flatten = nn.Flatten()\n",
        "        self.linear_relu_stack = nn.Sequential(\n",
        "            nn.Linear(28*28, 512),\n",
        "            nn.ReLU(),\n",
        "            nn.Linear(512, 512),\n",
        "            nn.ReLU(),\n",
        "            nn.Linear(512, 10)\n",
        "        )\n",
        "\n",
        "    def forward(self, x):\n",
        "        x = self.flatten(x)\n",
        "        logits = self.linear_relu_stack(x)\n",
        "        return logits\n",
        "\n",
        "model = NeuralNetwork().to(device)\n",
        "print(model)"
      ],
      "metadata": {
        "id": "t8tPZOKrYynx",
        "outputId": "ae558903-13ca-4941-a84e-d856df9cb041",
        "colab": {
          "base_uri": "https://localhost:8080/"
        }
      },
      "execution_count": 7,
      "outputs": [
        {
          "output_type": "stream",
          "name": "stdout",
          "text": [
            "NeuralNetwork(\n",
            "  (flatten): Flatten(start_dim=1, end_dim=-1)\n",
            "  (linear_relu_stack): Sequential(\n",
            "    (0): Linear(in_features=784, out_features=512, bias=True)\n",
            "    (1): ReLU()\n",
            "    (2): Linear(in_features=512, out_features=512, bias=True)\n",
            "    (3): ReLU()\n",
            "    (4): Linear(in_features=512, out_features=10, bias=True)\n",
            "  )\n",
            ")\n"
          ]
        }
      ]
    },
    {
      "cell_type": "code",
      "source": [
        "loss_fn = nn.CrossEntropyLoss()\n",
        "optimizer = torch.optim.SGD(model.parameters(), lr=1e-3)"
      ],
      "metadata": {
        "id": "EaugDSQ2Z9Oa"
      },
      "execution_count": 14,
      "outputs": []
    },
    {
      "cell_type": "code",
      "source": [
        "def train(dataloader, model, loss_fn, optimizer):\n",
        "    size = len(dataloader.dataset)\n",
        "    model.train()\n",
        "    for batch, (X, y) in enumerate(dataloader):\n",
        "        X, y = X.to(device), y.to(device)\n",
        "\n",
        "        # Compute prediction error\n",
        "        pred = model(X)\n",
        "        loss = loss_fn(pred, y)\n",
        "\n",
        "        # Backpropagation\n",
        "        loss.backward()\n",
        "        optimizer.step()\n",
        "        optimizer.zero_grad()\n",
        "\n",
        "        if batch % 100 == 0:\n",
        "            loss, current = loss.item(), (batch + 1) * len(X)\n",
        "            print(f\"loss: {loss:>7f}  [{current:>5d}/{size:>5d}]\")"
      ],
      "metadata": {
        "id": "pXDezWF9aFaq"
      },
      "execution_count": 13,
      "outputs": []
    },
    {
      "cell_type": "code",
      "source": [
        "def test(dataloader, model, loss_fn):\n",
        "    size = len(dataloader.dataset)\n",
        "    num_batches = len(dataloader)\n",
        "    model.eval()\n",
        "    test_loss, correct = 0, 0\n",
        "    with torch.no_grad():\n",
        "        for X, y in dataloader:\n",
        "            X, y = X.to(device), y.to(device)\n",
        "            pred = model(X)\n",
        "            test_loss += loss_fn(pred, y).item()\n",
        "            correct += (pred.argmax(1) == y).type(torch.float).sum().item()\n",
        "    test_loss /= num_batches\n",
        "    correct /= size\n",
        "    print(f\"Test Error: \\n Accuracy: {(100*correct):>0.1f}%, Avg loss: {test_loss:>8f} \\n\")"
      ],
      "metadata": {
        "id": "OI11_iUgaQ-j"
      },
      "execution_count": 12,
      "outputs": []
    },
    {
      "cell_type": "code",
      "source": [
        "epochs = 5\n",
        "for t in range(epochs):\n",
        "    print(f\"Epoch {t+1}\\n-------------------------------\")\n",
        "    train(train_dataloader, model, loss_fn, optimizer)\n",
        "    test(test_dataloader, model, loss_fn)\n",
        "print(\"Done!\")"
      ],
      "metadata": {
        "id": "WaRI3Xn9aqUw",
        "outputId": "7910255a-4c74-4e2f-c586-c5c0c194e696",
        "colab": {
          "base_uri": "https://localhost:8080/"
        }
      },
      "execution_count": 15,
      "outputs": [
        {
          "output_type": "stream",
          "name": "stdout",
          "text": [
            "Epoch 1\n",
            "-------------------------------\n",
            "loss: 2.299333  [   64/60000]\n",
            "loss: 2.296546  [ 6464/60000]\n",
            "loss: 2.275930  [12864/60000]\n",
            "loss: 2.272773  [19264/60000]\n",
            "loss: 2.259762  [25664/60000]\n",
            "loss: 2.228103  [32064/60000]\n",
            "loss: 2.240964  [38464/60000]\n",
            "loss: 2.205233  [44864/60000]\n",
            "loss: 2.212464  [51264/60000]\n",
            "loss: 2.175823  [57664/60000]\n",
            "Test Error: \n",
            " Accuracy: 33.0%, Avg loss: 2.175640 \n",
            "\n",
            "Epoch 2\n",
            "-------------------------------\n",
            "loss: 2.183434  [   64/60000]\n",
            "loss: 2.180541  [ 6464/60000]\n",
            "loss: 2.122507  [12864/60000]\n",
            "loss: 2.139194  [19264/60000]\n",
            "loss: 2.095039  [25664/60000]\n",
            "loss: 2.035768  [32064/60000]\n",
            "loss: 2.072796  [38464/60000]\n",
            "loss: 1.996632  [44864/60000]\n",
            "loss: 2.014533  [51264/60000]\n",
            "loss: 1.927991  [57664/60000]\n",
            "Test Error: \n",
            " Accuracy: 55.2%, Avg loss: 1.934450 \n",
            "\n",
            "Epoch 3\n",
            "-------------------------------\n",
            "loss: 1.964433  [   64/60000]\n",
            "loss: 1.940093  [ 6464/60000]\n",
            "loss: 1.824590  [12864/60000]\n",
            "loss: 1.862700  [19264/60000]\n",
            "loss: 1.757703  [25664/60000]\n",
            "loss: 1.703789  [32064/60000]\n",
            "loss: 1.734733  [38464/60000]\n",
            "loss: 1.633128  [44864/60000]\n",
            "loss: 1.662141  [51264/60000]\n",
            "loss: 1.539479  [57664/60000]\n",
            "Test Error: \n",
            " Accuracy: 62.5%, Avg loss: 1.563981 \n",
            "\n",
            "Epoch 4\n",
            "-------------------------------\n",
            "loss: 1.625449  [   64/60000]\n",
            "loss: 1.591905  [ 6464/60000]\n",
            "loss: 1.439355  [12864/60000]\n",
            "loss: 1.502533  [19264/60000]\n",
            "loss: 1.383331  [25664/60000]\n",
            "loss: 1.377611  [32064/60000]\n",
            "loss: 1.392261  [38464/60000]\n",
            "loss: 1.317120  [44864/60000]\n",
            "loss: 1.351242  [51264/60000]\n",
            "loss: 1.237877  [57664/60000]\n",
            "Test Error: \n",
            " Accuracy: 64.1%, Avg loss: 1.270298 \n",
            "\n",
            "Epoch 5\n",
            "-------------------------------\n",
            "loss: 1.343964  [   64/60000]\n",
            "loss: 1.328134  [ 6464/60000]\n",
            "loss: 1.159163  [12864/60000]\n",
            "loss: 1.257119  [19264/60000]\n",
            "loss: 1.133769  [25664/60000]\n",
            "loss: 1.160345  [32064/60000]\n",
            "loss: 1.180636  [38464/60000]\n",
            "loss: 1.121281  [44864/60000]\n",
            "loss: 1.159255  [51264/60000]\n",
            "loss: 1.065653  [57664/60000]\n",
            "Test Error: \n",
            " Accuracy: 65.1%, Avg loss: 1.091229 \n",
            "\n",
            "Done!\n"
          ]
        }
      ]
    },
    {
      "cell_type": "code",
      "source": [
        "torch.save(model.state_dict(), \"model.pth\")\n",
        "print(\"Saved PyTorch Model State to model.pth\")"
      ],
      "metadata": {
        "id": "2cdQZxagbzOM",
        "outputId": "bf81feaa-d918-4b65-e567-e6039cb544d5",
        "colab": {
          "base_uri": "https://localhost:8080/"
        }
      },
      "execution_count": 16,
      "outputs": [
        {
          "output_type": "stream",
          "name": "stdout",
          "text": [
            "Saved PyTorch Model State to model.pth\n"
          ]
        }
      ]
    },
    {
      "cell_type": "code",
      "source": [
        "model = NeuralNetwork().to(device)\n",
        "model.load_state_dict(torch.load(\"model.pth\", weights_only=True))"
      ],
      "metadata": {
        "id": "h5iUore2cqoy",
        "outputId": "0bf17e6c-86b3-48fa-f8ba-260183aef8e5",
        "colab": {
          "base_uri": "https://localhost:8080/"
        }
      },
      "execution_count": 17,
      "outputs": [
        {
          "output_type": "execute_result",
          "data": {
            "text/plain": [
              "<All keys matched successfully>"
            ]
          },
          "metadata": {},
          "execution_count": 17
        }
      ]
    },
    {
      "cell_type": "code",
      "source": [
        "classes = [\n",
        "    \"T-shirt/top\",\n",
        "    \"Trouser\",\n",
        "    \"Pullover\",\n",
        "    \"Dress\",\n",
        "    \"Coat\",\n",
        "    \"Sandal\",\n",
        "    \"Shirt\",\n",
        "    \"Sneaker\",\n",
        "    \"Bag\",\n",
        "    \"Ankle boot\",\n",
        "]\n",
        "\n",
        "model.eval()\n",
        "x, y = test_data[0][0], test_data[0][1]\n",
        "with torch.no_grad():\n",
        "    x = x.to(device)\n",
        "    pred = model(x)\n",
        "    predicted, actual = classes[pred[0].argmax(0)], classes[y]\n",
        "    print(f'Predicted: \"{predicted}\", Actual: \"{actual}\"')"
      ],
      "metadata": {
        "id": "8WtCYaAhcwTS",
        "outputId": "907eb7cd-6fcb-4885-dbd9-8eb013e56acf",
        "colab": {
          "base_uri": "https://localhost:8080/"
        }
      },
      "execution_count": 18,
      "outputs": [
        {
          "output_type": "stream",
          "name": "stdout",
          "text": [
            "Predicted: \"Ankle boot\", Actual: \"Ankle boot\"\n"
          ]
        }
      ]
    },
    {
      "cell_type": "markdown",
      "metadata": {
        "id": "-WYHHt3eTFV7"
      },
      "source": [
        "**Learn the Basics** \\|\\| [Quickstart](quickstart_tutorial.html) \\|\\|\n",
        "[Tensors](tensorqs_tutorial.html) \\|\\| [Datasets &\n",
        "DataLoaders](data_tutorial.html) \\|\\|\n",
        "[Transforms](transforms_tutorial.html) \\|\\| [Build\n",
        "Model](buildmodel_tutorial.html) \\|\\|\n",
        "[Autograd](autogradqs_tutorial.html) \\|\\|\n",
        "[Optimization](optimization_tutorial.html) \\|\\| [Save & Load\n",
        "Model](saveloadrun_tutorial.html)\n",
        "\n",
        "Learn the Basics\n",
        "================\n",
        "\n",
        "Authors: [Suraj Subramanian](https://github.com/subramen), [Seth\n",
        "Juarez](https://github.com/sethjuarez/), [Cassie\n",
        "Breviu](https://github.com/cassiebreviu/), [Dmitry\n",
        "Soshnikov](https://soshnikov.com/), [Ari\n",
        "Bornstein](https://github.com/aribornstein/)\n",
        "\n",
        "Most machine learning workflows involve working with data, creating\n",
        "models, optimizing model parameters, and saving the trained models. This\n",
        "tutorial introduces you to a complete ML workflow implemented in\n",
        "PyTorch, with links to learn more about each of these concepts.\n",
        "\n",
        "We\\'ll use the FashionMNIST dataset to train a neural network that\n",
        "predicts if an input image belongs to one of the following classes:\n",
        "T-shirt/top, Trouser, Pullover, Dress, Coat, Sandal, Shirt, Sneaker,\n",
        "Bag, or Ankle boot.\n",
        "\n",
        "[This tutorial assumes a basic familiarity with Python and Deep Learning\n",
        "concepts.]{.title-ref}\n",
        "\n",
        "Running the Tutorial Code\n",
        "-------------------------\n",
        "\n",
        "You can run this tutorial in a couple of ways:\n",
        "\n",
        "-   **In the cloud**: This is the easiest way to get started! Each\n",
        "    section has a \\\"Run in Microsoft Learn\\\" and \\\"Run in Google Colab\\\"\n",
        "    link at the top, which opens an integrated notebook in Microsoft\n",
        "    Learn or Google Colab, respectively, with the code in a fully-hosted\n",
        "    environment.\n",
        "-   **Locally**: This option requires you to setup PyTorch and\n",
        "    TorchVision first on your local machine ([installation\n",
        "    instructions](https://pytorch.org/get-started/locally/)). Download\n",
        "    the notebook or copy the code into your favorite IDE.\n",
        "\n",
        "How to Use this Guide\n",
        "---------------------\n",
        "\n",
        "If you\\'re familiar with other deep learning frameworks, check out the\n",
        "[0. Quickstart](quickstart_tutorial.html) first to quickly familiarize\n",
        "yourself with PyTorch\\'s API.\n",
        "\n",
        "If you\\'re new to deep learning frameworks, head right into the first\n",
        "section of our step-by-step guide: [1. Tensors](tensor_tutorial.html).\n",
        "\n",
        "::: {.toctree maxdepth=\"2\" hidden=\"\"}\n",
        "quickstart\\_tutorial tensorqs\\_tutorial data\\_tutorial\n",
        "transforms\\_tutorial buildmodel\\_tutorial autogradqs\\_tutorial\n",
        "optimization\\_tutorial saveloadrun\\_tutorial\n",
        ":::\n"
      ]
    }
  ],
  "metadata": {
    "kernelspec": {
      "display_name": "Python 3",
      "language": "python",
      "name": "python3"
    },
    "language_info": {
      "codemirror_mode": {
        "name": "ipython",
        "version": 3
      },
      "file_extension": ".py",
      "mimetype": "text/x-python",
      "name": "python",
      "nbconvert_exporter": "python",
      "pygments_lexer": "ipython3",
      "version": "3.10.12"
    },
    "colab": {
      "provenance": [],
      "include_colab_link": true
    }
  },
  "nbformat": 4,
  "nbformat_minor": 0
}